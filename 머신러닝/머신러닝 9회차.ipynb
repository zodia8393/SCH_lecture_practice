{
 "cells": [
  {
   "cell_type": "code",
   "execution_count": 3,
   "id": "d21adba5",
   "metadata": {},
   "outputs": [
    {
     "data": {
      "text/plain": [
       "dict_keys(['data', 'target', 'frame', 'feature_names', 'target_names', 'images', 'DESCR'])"
      ]
     },
     "execution_count": 3,
     "metadata": {},
     "output_type": "execute_result"
    }
   ],
   "source": [
    "#2022-04-11 머신러닝 9회차\n",
    "#데이터 불러오기\n",
    "from sklearn import datasets\n",
    "digit_dataset=datasets.load_digits()\n",
    "digit_dataset.keys()"
   ]
  },
  {
   "cell_type": "code",
   "execution_count": 4,
   "id": "8d1032fb",
   "metadata": {},
   "outputs": [
    {
     "data": {
      "text/plain": [
       "(1797, 8, 8)"
      ]
     },
     "execution_count": 4,
     "metadata": {},
     "output_type": "execute_result"
    }
   ],
   "source": [
    "digit_dataset[\"images\"].shape"
   ]
  },
  {
   "cell_type": "code",
   "execution_count": 5,
   "id": "1fcd1193",
   "metadata": {},
   "outputs": [
    {
     "data": {
      "text/plain": [
       "0"
      ]
     },
     "execution_count": 5,
     "metadata": {},
     "output_type": "execute_result"
    }
   ],
   "source": [
    "digit_dataset[\"target\"][0]"
   ]
  },
  {
   "cell_type": "code",
   "execution_count": 6,
   "id": "3865d6da",
   "metadata": {},
   "outputs": [
    {
     "data": {
      "text/plain": [
       "array([[ 0.,  0.,  5., 13.,  9.,  1.,  0.,  0.],\n",
       "       [ 0.,  0., 13., 15., 10., 15.,  5.,  0.],\n",
       "       [ 0.,  3., 15.,  2.,  0., 11.,  8.,  0.],\n",
       "       [ 0.,  4., 12.,  0.,  0.,  8.,  8.,  0.],\n",
       "       [ 0.,  5.,  8.,  0.,  0.,  9.,  8.,  0.],\n",
       "       [ 0.,  4., 11.,  0.,  1., 12.,  7.,  0.],\n",
       "       [ 0.,  2., 14.,  5., 10., 12.,  0.,  0.],\n",
       "       [ 0.,  0.,  6., 13., 10.,  0.,  0.,  0.]])"
      ]
     },
     "execution_count": 6,
     "metadata": {},
     "output_type": "execute_result"
    }
   ],
   "source": [
    "digit_dataset[\"images\"][0]"
   ]
  },
  {
   "cell_type": "code",
   "execution_count": 18,
   "id": "63fd6b46",
   "metadata": {},
   "outputs": [
    {
     "data": {
      "image/png": "[encoded data removed]",
      "text/plain": [
       "<Figure size 720x216 with 4 Axes>"
      ]
     },
     "metadata": {
      "needs_background": "light"
     },
     "output_type": "display_data"
    }
   ],
   "source": [
    "import matplotlib.pyplot as plt\n",
    "from random import randint\n",
    "_, axes = plt.subplots(nrows=1,ncols=4,figsize=(10,3))\n",
    "\n",
    "for ax in axes:\n",
    "    num=randint(1,1000)\n",
    "    image=digit_dataset[\"images\"][num]\n",
    "    labe=digit_dataset[\"target\"][num]\n",
    "    ax.set_axis_off()\n",
    "    ax.imshow(image,cmap=plt.cm.gray_r,interpolation='nearest')\n",
    "    ax.set_title('Training: %i'%label)"
   ]
  },
  {
   "cell_type": "code",
   "execution_count": 19,
   "id": "64933816",
   "metadata": {},
   "outputs": [
    {
     "data": {
      "text/plain": [
       "(64,)"
      ]
     },
     "execution_count": 19,
     "metadata": {},
     "output_type": "execute_result"
    }
   ],
   "source": [
    "digit_dataset[\"data\"][0].shape"
   ]
  },
  {
   "cell_type": "code",
   "execution_count": 21,
   "id": "efdf2235",
   "metadata": {},
   "outputs": [],
   "source": [
    "#데이터 분류하기\n",
    "from sklearn.model_selection import train_test_split\n",
    "X=digit_dataset[\"data\"]\n",
    "y=digit_dataset[\"target\"]\n",
    "X_train,X_test,y_train,y_test=train_test_split(X,y)"
   ]
  },
  {
   "cell_type": "code",
   "execution_count": 36,
   "id": "fd650cc6",
   "metadata": {},
   "outputs": [
    {
     "data": {
      "text/plain": [
       "LogisticRegression(max_iter=1000, multi_class='multinomial', solver='sag')"
      ]
     },
     "execution_count": 36,
     "metadata": {},
     "output_type": "execute_result"
    }
   ],
   "source": [
    "from sklearn.linear_model import LogisticRegression\n",
    "\n",
    "#max_iter를 지정해주지 않으면 수렴할때까지 코드가 실행되기 때문에 한계치를 지정해준다\n",
    "logreg_ovr = LogisticRegression(multi_class=\"ovr\",max_iter=1000) \n",
    "logreg_softmax = LogisticRegression(multi_class=\"multinomial\",solver=\"sag\",max_iter=1000)\n",
    "\n",
    "logreg_ovr.fit(X_train, y_train)\n",
    "logreg_softmax.fit(X_train, y_train)\n"
   ]
  },
  {
   "cell_type": "code",
   "execution_count": 37,
   "id": "5ad37f28",
   "metadata": {},
   "outputs": [
    {
     "data": {
      "text/plain": [
       "array([[44,  0,  0,  0,  0,  0,  0,  0,  0,  0],\n",
       "       [ 0, 35,  0,  2,  0,  0,  0,  0,  1,  0],\n",
       "       [ 0,  0, 43,  0,  0,  0,  0,  0,  0,  0],\n",
       "       [ 0,  0,  1, 42,  0,  2,  0,  0,  0,  0],\n",
       "       [ 0,  1,  0,  0, 41,  0,  0,  0,  0,  0],\n",
       "       [ 0,  0,  1,  0,  0, 44,  0,  0,  0,  1],\n",
       "       [ 0,  0,  0,  0,  0,  0, 49,  0,  0,  0],\n",
       "       [ 0,  0,  0,  0,  0,  0,  0, 47,  0,  1],\n",
       "       [ 0,  4,  1,  1,  0,  2,  0,  0, 35,  1],\n",
       "       [ 0,  0,  0,  0,  0,  0,  0,  0,  0, 51]], dtype=int64)"
      ]
     },
     "execution_count": 37,
     "metadata": {},
     "output_type": "execute_result"
    }
   ],
   "source": [
    "#성능 측정하기\n",
    "from sklearn.metrics import confusion_matrix\n",
    "y_pred=logreg_ovr.predict(X_test).copy()\n",
    "y_true=y_test.copy()\n",
    "confusion_matrix(y_true,y_pred)"
   ]
  },
  {
   "cell_type": "code",
   "execution_count": 38,
   "id": "f8a87a48",
   "metadata": {},
   "outputs": [
    {
     "name": "stdout",
     "output_type": "stream",
     "text": [
      "              precision    recall  f1-score   support\n",
      "\n",
      "           0       1.00      1.00      1.00        44\n",
      "           1       0.88      0.92      0.90        38\n",
      "           2       0.93      1.00      0.97        43\n",
      "           3       0.93      0.93      0.93        45\n",
      "           4       1.00      0.98      0.99        42\n",
      "           5       0.92      0.96      0.94        46\n",
      "           6       1.00      1.00      1.00        49\n",
      "           7       1.00      0.98      0.99        48\n",
      "           8       0.97      0.80      0.88        44\n",
      "           9       0.94      1.00      0.97        51\n",
      "\n",
      "    accuracy                           0.96       450\n",
      "   macro avg       0.96      0.96      0.96       450\n",
      "weighted avg       0.96      0.96      0.96       450\n",
      "\n"
     ]
    }
   ],
   "source": [
    "from sklearn.metrics import classification_report\n",
    "print(classification_report(y_true,y_pred))"
   ]
  },
  {
   "cell_type": "code",
   "execution_count": 39,
   "id": "406679d9",
   "metadata": {},
   "outputs": [
    {
     "data": {
      "text/plain": [
       "0.9577777777777777"
      ]
     },
     "execution_count": 39,
     "metadata": {},
     "output_type": "execute_result"
    }
   ],
   "source": [
    "result=confusion_matrix(y_true,y_pred)\n",
    "result.diagonal().sum()/result.sum(axis=0).sum()"
   ]
  },
  {
   "cell_type": "code",
   "execution_count": 40,
   "id": "0128b441",
   "metadata": {},
   "outputs": [
    {
     "data": {
      "text/plain": [
       "0.9577777777777777"
      ]
     },
     "execution_count": 40,
     "metadata": {},
     "output_type": "execute_result"
    }
   ],
   "source": [
    "from sklearn.metrics import precision_score\n",
    "precision_score(y_true,y_pred,average=\"micro\")"
   ]
  },
  {
   "cell_type": "code",
   "execution_count": 41,
   "id": "135256c2",
   "metadata": {},
   "outputs": [
    {
     "data": {
      "text/plain": [
       "0.9576449275362318"
      ]
     },
     "execution_count": 41,
     "metadata": {},
     "output_type": "execute_result"
    }
   ],
   "source": [
    "precision_score(y_true,y_pred,average=\"macro\")"
   ]
  },
  {
   "cell_type": "code",
   "execution_count": 42,
   "id": "e168f765",
   "metadata": {},
   "outputs": [
    {
     "data": {
      "text/plain": [
       "array([1.        , 0.875     , 0.93478261, 0.93333333, 1.        ,\n",
       "       0.91666667, 1.        , 1.        , 0.97222222, 0.94444444])"
      ]
     },
     "execution_count": 42,
     "metadata": {},
     "output_type": "execute_result"
    }
   ],
   "source": [
    "precision_score(y_true,y_pred,average=None)"
   ]
  },
  {
   "cell_type": "code",
   "execution_count": 33,
   "id": "fdecd873",
   "metadata": {},
   "outputs": [],
   "source": [
    "#ROC커브와 AUC 사이킷런 코드로 구현\n",
    "import numpy as np\n",
    "from sklearn import metrics\n",
    "\n",
    "y=np.array([1,1,2,2])\n",
    "scores=np.array([0.1,0.4,0.35,0.8])\n",
    "fpr,tpr,thresholds=metrics.roc_curve(y,scores,pos_label=2)\n",
    "\n",
    "# fpr - array([0. , 0. , 0.5, 0.5, 1. ])\n",
    "# tpr - array([0. , 0.5, 0.5, 1. , 1. ])\n",
    "# thresholds - array([1.8 , 0.8 , 0.4 , 0.35, 0.1 ])"
   ]
  },
  {
   "cell_type": "code",
   "execution_count": 43,
   "id": "baa0d400",
   "metadata": {},
   "outputs": [
    {
     "data": {
      "text/plain": [
       "0.75"
      ]
     },
     "execution_count": 43,
     "metadata": {},
     "output_type": "execute_result"
    }
   ],
   "source": [
    "y=np.array([1,1,2,2])\n",
    "pred=np.array([0.1,0.4,0.35,0.8])\n",
    "fpr,tpr,threshholds=metrics.roc_curve(y,pred,pos_label=2)\n",
    "roc_auc=metrics.auc(fpr,tpr)\n",
    "roc_auc"
   ]
  },
  {
   "cell_type": "code",
   "execution_count": 44,
   "id": "79b38fa8",
   "metadata": {},
   "outputs": [
    {
     "data": {
      "image/png": "[encoded data removed]",
      "text/plain": [
       "<Figure size 432x288 with 1 Axes>"
      ]
     },
     "metadata": {
      "needs_background": "light"
     },
     "output_type": "display_data"
    }
   ],
   "source": [
    "import matplotlib.pyplot as plt\n",
    "\n",
    "plt.figure()\n",
    "lw=2\n",
    "plt.plot(fpr,tpr,lw=lw,label=\"ROC curve (area =%0.2f)\"%roc_auc)\n",
    "plt.plot([0,1],[0,1],color='navy',lw=lw,linestyle='--')\n",
    "plt.xlim([0.0,1.0])\n",
    "plt.ylim([0.0,1.05])\n",
    "plt.xlabel('False Positive Rate')\n",
    "plt.ylabel('True Positive Rate')\n",
    "plt.title('Receiver operating characteristic example')\n",
    "plt.legend(loc='lower right')\n",
    "plt.show()"
   ]
  },
  {
   "cell_type": "code",
   "execution_count": null,
   "id": "ec16b9f0",
   "metadata": {},
   "outputs": [],
   "source": []
  },
  {
   "cell_type": "code",
   "execution_count": null,
   "id": "0d1b8022",
   "metadata": {},
   "outputs": [],
   "source": []
  },
  {
   "cell_type": "code",
   "execution_count": null,
   "id": "9eae80d6",
   "metadata": {},
   "outputs": [],
   "source": []
  },
  {
   "cell_type": "code",
   "execution_count": null,
   "id": "f164a525",
   "metadata": {},
   "outputs": [],
   "source": []
  },
  {
   "cell_type": "code",
   "execution_count": null,
   "id": "778646d5",
   "metadata": {},
   "outputs": [],
   "source": []
  },
  {
   "cell_type": "code",
   "execution_count": null,
   "id": "bffb812d",
   "metadata": {},
   "outputs": [],
   "source": []
  },
  {
   "cell_type": "code",
   "execution_count": null,
   "id": "9ffadcab",
   "metadata": {},
   "outputs": [],
   "source": []
  },
  {
   "cell_type": "code",
   "execution_count": null,
   "id": "ac6fda07",
   "metadata": {},
   "outputs": [],
   "source": []
  },
  {
   "cell_type": "code",
   "execution_count": null,
   "id": "b0d144e5",
   "metadata": {},
   "outputs": [],
   "source": []
  }
 ],
 "metadata": {
  "kernelspec": {
   "display_name": "Python 3 (ipykernel)",
   "language": "python",
   "name": "python3"
  },
  "language_info": {
   "codemirror_mode": {
    "name": "ipython",
    "version": 3
   },
   "file_extension": ".py",
   "mimetype": "text/x-python",
   "name": "python",
   "nbconvert_exporter": "python",
   "pygments_lexer": "ipython3",
   "version": "3.9.7"
  }
 },
 "nbformat": 4,
 "nbformat_minor": 5
}
