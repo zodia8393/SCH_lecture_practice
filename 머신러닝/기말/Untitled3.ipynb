{
 "cells": [
  {
   "cell_type": "markdown",
   "id": "72e88929",
   "metadata": {},
   "source": [
    "#2022-04-27 머신러닝 실습"
   ]
  },
  {
   "cell_type": "code",
   "execution_count": 2,
   "id": "ac196609",
   "metadata": {},
   "outputs": [],
   "source": [
    "#베이즈 분류기 구현하기\n",
    "from pandas import Series, DataFrame\n",
    "import pandas as pd\n",
    "import numpy as np\n",
    "\n",
    "viagra_spam = {'viagra':\n",
    "[1,0,0,0,0,0,0,0,1,1,1,0,0,1,0,0,0,0,0,1],\n",
    "'spam':\n",
    "[1,0,0,0,0,0,1,0,1,0,0,0,0,0,0,0,0,1,1,1]}  #리스트 변수 지정\n",
    "\n",
    "df=pd.DataFrame(viagra_spam,columns=['viagra','spam']) #데이터 프레임 작성\n",
    "np_data=df.values"
   ]
  },
  {
   "cell_type": "code",
   "execution_count": 3,
   "id": "77ae9490",
   "metadata": {},
   "outputs": [
    {
     "data": {
      "text/plain": [
       "0.15"
      ]
     },
     "execution_count": 3,
     "metadata": {},
     "output_type": "execute_result"
    }
   ],
   "source": [
    "#𝑃(𝑣𝑖𝑎𝑔𝑟𝑎 ∩ 𝑠𝑝𝑎𝑚)\n",
    "sum((np_data[:,0]==1)&(np_data[:,1]==1))/20 #0번째 열과 1번째 열이 모두 1일경우 "
   ]
  },
  {
   "cell_type": "code",
   "execution_count": 14,
   "id": "b5b1439d",
   "metadata": {},
   "outputs": [
    {
     "data": {
      "text/plain": [
       "0.15"
      ]
     },
     "execution_count": 14,
     "metadata": {},
     "output_type": "execute_result"
    }
   ],
   "source": [
    "#𝑃(𝑣𝑖𝑎𝑔𝑟𝑎), 𝑃(𝑠𝑝𝑎𝑚), 𝑃(𝑣𝑖𝑎𝑔𝑟𝑎) ∩ 𝑠𝑝𝑎𝑚), 𝑃(~𝑣𝑖𝑎𝑔𝑟𝑎 ∩ 𝑠𝑝𝑎𝑚)\n",
    "p_viagra=sum(np_data[:,0]==1)/len(np_data)\n",
    "p_viagra\n",
    "p_spam=sum(np_data[:,1]==1)/len(np_data)\n",
    "p_spam\n",
    "p_v_cap_s=sum((np_data[:,0]==1)&(np_data[:,1]==1))/len(np_data)\n",
    "p_v_cap_s\n",
    "p_n_v_cap_s = sum((np_data[:, 0] == 0) & (np_data[:, 1] == 1)) /len(np_data)\n",
    "p_n_v_cap_s"
   ]
  },
  {
   "cell_type": "code",
   "execution_count": 11,
   "id": "3e27ddd6",
   "metadata": {},
   "outputs": [
    {
     "data": {
      "text/plain": [
       "0.5"
      ]
     },
     "execution_count": 11,
     "metadata": {},
     "output_type": "execute_result"
    }
   ],
   "source": [
    "#𝑃(𝑠𝑝𝑎𝑚|𝑣𝑖𝑎𝑔𝑟𝑎)\n",
    "p_spam * (p_v_cap_s / p_spam ) / p_viagra"
   ]
  },
  {
   "cell_type": "code",
   "execution_count": 12,
   "id": "c4b0f2f7",
   "metadata": {},
   "outputs": [
    {
     "data": {
      "text/plain": [
       "0.2142857142857143"
      ]
     },
     "execution_count": 12,
     "metadata": {},
     "output_type": "execute_result"
    }
   ],
   "source": [
    "#𝑃(𝑠𝑝𝑎𝑚|~𝑣𝑖𝑎𝑔𝑟𝑎)\n",
    "p_spam * (p_n_v_cap_s / p_spam ) / (1-p_viagra)"
   ]
  },
  {
   "cell_type": "markdown",
   "id": "6ebf6281",
   "metadata": {},
   "source": [
    "– ‘viagra’라는 단어가 포함되었을 때 스팸메일일 확률(=0.5)은\n",
    "  ‘viagra’라는 단어가 포함되지 않았을 때 스팸메일일 확률\n",
    "   (=0.2142857142857143)보다 높음\n",
    "– ‘viagra’라는 단어가 있으면 스팸메일로 분류하는 것이 합리적\n",
    "    • ‘viagra’라는 단어 외에 영향을 주는 단어가 있을 수 있다.\n",
    "    • 오히려 스팸에서 제외되는 메일에 ‘viagra’라는 단어가 있을 수 있다.\n",
    "– 나이브 베이지안 분류기가 위 문제점을 해결"
   ]
  },
  {
   "cell_type": "code",
   "execution_count": 15,
   "id": "51f8d185",
   "metadata": {},
   "outputs": [
    {
     "data": {
      "text/html": [
       "<div>\n",
       "<style scoped>\n",
       "    .dataframe tbody tr th:only-of-type {\n",
       "        vertical-align: middle;\n",
       "    }\n",
       "\n",
       "    .dataframe tbody tr th {\n",
       "        vertical-align: top;\n",
       "    }\n",
       "\n",
       "    .dataframe thead th {\n",
       "        text-align: right;\n",
       "    }\n",
       "</style>\n",
       "<table border=\"1\" class=\"dataframe\">\n",
       "  <thead>\n",
       "    <tr style=\"text-align: right;\">\n",
       "      <th></th>\n",
       "      <th>ID</th>\n",
       "      <th>History</th>\n",
       "      <th>CoApplicant</th>\n",
       "      <th>Accommodation</th>\n",
       "      <th>Fraud</th>\n",
       "    </tr>\n",
       "  </thead>\n",
       "  <tbody>\n",
       "    <tr>\n",
       "      <th>0</th>\n",
       "      <td>1</td>\n",
       "      <td>current</td>\n",
       "      <td>none</td>\n",
       "      <td>own</td>\n",
       "      <td>True</td>\n",
       "    </tr>\n",
       "    <tr>\n",
       "      <th>1</th>\n",
       "      <td>2</td>\n",
       "      <td>paid</td>\n",
       "      <td>none</td>\n",
       "      <td>own</td>\n",
       "      <td>False</td>\n",
       "    </tr>\n",
       "    <tr>\n",
       "      <th>2</th>\n",
       "      <td>3</td>\n",
       "      <td>paid</td>\n",
       "      <td>none</td>\n",
       "      <td>own</td>\n",
       "      <td>False</td>\n",
       "    </tr>\n",
       "    <tr>\n",
       "      <th>3</th>\n",
       "      <td>4</td>\n",
       "      <td>paid</td>\n",
       "      <td>guarantor</td>\n",
       "      <td>rent</td>\n",
       "      <td>True</td>\n",
       "    </tr>\n",
       "    <tr>\n",
       "      <th>4</th>\n",
       "      <td>5</td>\n",
       "      <td>arrears</td>\n",
       "      <td>none</td>\n",
       "      <td>own</td>\n",
       "      <td>False</td>\n",
       "    </tr>\n",
       "  </tbody>\n",
       "</table>\n",
       "</div>"
      ],
      "text/plain": [
       "   ID  History CoApplicant Accommodation  Fraud\n",
       "0   1  current        none           own   True\n",
       "1   2     paid        none           own  False\n",
       "2   3     paid        none           own  False\n",
       "3   4     paid   guarantor          rent   True\n",
       "4   5  arrears        none           own  False"
      ]
     },
     "execution_count": 15,
     "metadata": {},
     "output_type": "execute_result"
    }
   ],
   "source": [
    "#나이브 베이지안 분류기 만들기\n",
    "#나이브 베이지안 분류기(Naive Bayesian Classifier) : 여러 개의 열을 사용하여 분류기를 구성\n",
    "from pandas import Series, DataFrame\n",
    "import pandas as pd\n",
    "import numpy as np\n",
    "\n",
    "data_url=\"c:/source/ch11/fraud.csv\" #파일 불러올 경로 호출\n",
    "df=pd.read_csv(data_url,sep=',')\n",
    "df.head()"
   ]
  },
  {
   "cell_type": "code",
   "execution_count": 16,
   "id": "531e3490",
   "metadata": {},
   "outputs": [
    {
     "data": {
      "text/html": [
       "<div>\n",
       "<style scoped>\n",
       "    .dataframe tbody tr th:only-of-type {\n",
       "        vertical-align: middle;\n",
       "    }\n",
       "\n",
       "    .dataframe tbody tr th {\n",
       "        vertical-align: top;\n",
       "    }\n",
       "\n",
       "    .dataframe thead th {\n",
       "        text-align: right;\n",
       "    }\n",
       "</style>\n",
       "<table border=\"1\" class=\"dataframe\">\n",
       "  <thead>\n",
       "    <tr style=\"text-align: right;\">\n",
       "      <th></th>\n",
       "      <th>0</th>\n",
       "      <th>1</th>\n",
       "      <th>2</th>\n",
       "      <th>3</th>\n",
       "      <th>4</th>\n",
       "      <th>5</th>\n",
       "      <th>6</th>\n",
       "      <th>7</th>\n",
       "      <th>8</th>\n",
       "      <th>9</th>\n",
       "    </tr>\n",
       "  </thead>\n",
       "  <tbody>\n",
       "    <tr>\n",
       "      <th>History_arrears</th>\n",
       "      <td>0</td>\n",
       "      <td>0</td>\n",
       "      <td>0</td>\n",
       "      <td>0</td>\n",
       "      <td>1</td>\n",
       "      <td>1</td>\n",
       "      <td>0</td>\n",
       "      <td>1</td>\n",
       "      <td>0</td>\n",
       "      <td>0</td>\n",
       "    </tr>\n",
       "    <tr>\n",
       "      <th>History_current</th>\n",
       "      <td>1</td>\n",
       "      <td>0</td>\n",
       "      <td>0</td>\n",
       "      <td>0</td>\n",
       "      <td>0</td>\n",
       "      <td>0</td>\n",
       "      <td>1</td>\n",
       "      <td>0</td>\n",
       "      <td>1</td>\n",
       "      <td>0</td>\n",
       "    </tr>\n",
       "    <tr>\n",
       "      <th>History_none</th>\n",
       "      <td>0</td>\n",
       "      <td>0</td>\n",
       "      <td>0</td>\n",
       "      <td>0</td>\n",
       "      <td>0</td>\n",
       "      <td>0</td>\n",
       "      <td>0</td>\n",
       "      <td>0</td>\n",
       "      <td>0</td>\n",
       "      <td>1</td>\n",
       "    </tr>\n",
       "    <tr>\n",
       "      <th>History_paid</th>\n",
       "      <td>0</td>\n",
       "      <td>1</td>\n",
       "      <td>1</td>\n",
       "      <td>1</td>\n",
       "      <td>0</td>\n",
       "      <td>0</td>\n",
       "      <td>0</td>\n",
       "      <td>0</td>\n",
       "      <td>0</td>\n",
       "      <td>0</td>\n",
       "    </tr>\n",
       "    <tr>\n",
       "      <th>CoApplicant_coapplicant</th>\n",
       "      <td>0</td>\n",
       "      <td>0</td>\n",
       "      <td>0</td>\n",
       "      <td>0</td>\n",
       "      <td>0</td>\n",
       "      <td>0</td>\n",
       "      <td>0</td>\n",
       "      <td>0</td>\n",
       "      <td>0</td>\n",
       "      <td>0</td>\n",
       "    </tr>\n",
       "    <tr>\n",
       "      <th>CoApplicant_guarantor</th>\n",
       "      <td>0</td>\n",
       "      <td>0</td>\n",
       "      <td>0</td>\n",
       "      <td>1</td>\n",
       "      <td>0</td>\n",
       "      <td>0</td>\n",
       "      <td>0</td>\n",
       "      <td>0</td>\n",
       "      <td>0</td>\n",
       "      <td>0</td>\n",
       "    </tr>\n",
       "    <tr>\n",
       "      <th>CoApplicant_none</th>\n",
       "      <td>1</td>\n",
       "      <td>1</td>\n",
       "      <td>1</td>\n",
       "      <td>0</td>\n",
       "      <td>1</td>\n",
       "      <td>1</td>\n",
       "      <td>1</td>\n",
       "      <td>1</td>\n",
       "      <td>1</td>\n",
       "      <td>1</td>\n",
       "    </tr>\n",
       "    <tr>\n",
       "      <th>Accommodation_free</th>\n",
       "      <td>0</td>\n",
       "      <td>0</td>\n",
       "      <td>0</td>\n",
       "      <td>0</td>\n",
       "      <td>0</td>\n",
       "      <td>0</td>\n",
       "      <td>0</td>\n",
       "      <td>0</td>\n",
       "      <td>0</td>\n",
       "      <td>0</td>\n",
       "    </tr>\n",
       "    <tr>\n",
       "      <th>Accommodation_own</th>\n",
       "      <td>1</td>\n",
       "      <td>1</td>\n",
       "      <td>1</td>\n",
       "      <td>0</td>\n",
       "      <td>1</td>\n",
       "      <td>1</td>\n",
       "      <td>1</td>\n",
       "      <td>1</td>\n",
       "      <td>0</td>\n",
       "      <td>1</td>\n",
       "    </tr>\n",
       "    <tr>\n",
       "      <th>Accommodation_rent</th>\n",
       "      <td>0</td>\n",
       "      <td>0</td>\n",
       "      <td>0</td>\n",
       "      <td>1</td>\n",
       "      <td>0</td>\n",
       "      <td>0</td>\n",
       "      <td>0</td>\n",
       "      <td>0</td>\n",
       "      <td>1</td>\n",
       "      <td>0</td>\n",
       "    </tr>\n",
       "  </tbody>\n",
       "</table>\n",
       "</div>"
      ],
      "text/plain": [
       "                         0  1  2  3  4  5  6  7  8  9\n",
       "History_arrears          0  0  0  0  1  1  0  1  0  0\n",
       "History_current          1  0  0  0  0  0  1  0  1  0\n",
       "History_none             0  0  0  0  0  0  0  0  0  1\n",
       "History_paid             0  1  1  1  0  0  0  0  0  0\n",
       "CoApplicant_coapplicant  0  0  0  0  0  0  0  0  0  0\n",
       "CoApplicant_guarantor    0  0  0  1  0  0  0  0  0  0\n",
       "CoApplicant_none         1  1  1  0  1  1  1  1  1  1\n",
       "Accommodation_free       0  0  0  0  0  0  0  0  0  0\n",
       "Accommodation_own        1  1  1  0  1  1  1  1  0  1\n",
       "Accommodation_rent       0  0  0  1  0  0  0  0  1  0"
      ]
     },
     "execution_count": 16,
     "metadata": {},
     "output_type": "execute_result"
    }
   ],
   "source": [
    "#Y 값을 따로 빼내고 X 데이터들을 원핫인코딩으로 처리\n",
    "del df[\"ID\"]\n",
    "Y_data=df.pop(\"Fraud\")\n",
    "Y_data=Y_data.values\n",
    "x_df=pd.get_dummies(df)\n",
    "x_df.head(10).T"
   ]
  },
  {
   "cell_type": "code",
   "execution_count": 17,
   "id": "5893aff6",
   "metadata": {},
   "outputs": [
    {
     "data": {
      "text/plain": [
       "array([[0, 1, 0, 0, 0, 0, 1, 0, 1, 0],\n",
       "       [0, 0, 0, 1, 0, 0, 1, 0, 1, 0],\n",
       "       [0, 0, 0, 1, 0, 0, 1, 0, 1, 0],\n",
       "       [0, 0, 0, 1, 0, 1, 0, 0, 0, 1],\n",
       "       [1, 0, 0, 0, 0, 0, 1, 0, 1, 0],\n",
       "       [1, 0, 0, 0, 0, 0, 1, 0, 1, 0],\n",
       "       [0, 1, 0, 0, 0, 0, 1, 0, 1, 0],\n",
       "       [1, 0, 0, 0, 0, 0, 1, 0, 1, 0],\n",
       "       [0, 1, 0, 0, 0, 0, 1, 0, 0, 1],\n",
       "       [0, 0, 1, 0, 0, 0, 1, 0, 1, 0],\n",
       "       [0, 1, 0, 0, 1, 0, 0, 0, 1, 0],\n",
       "       [0, 1, 0, 0, 0, 0, 1, 0, 1, 0],\n",
       "       [0, 1, 0, 0, 0, 0, 1, 0, 0, 1],\n",
       "       [0, 0, 0, 1, 0, 0, 1, 0, 1, 0],\n",
       "       [1, 0, 0, 0, 0, 0, 1, 0, 1, 0],\n",
       "       [0, 1, 0, 0, 0, 0, 1, 0, 1, 0],\n",
       "       [1, 0, 0, 0, 1, 0, 0, 0, 0, 1],\n",
       "       [1, 0, 0, 0, 0, 0, 1, 1, 0, 0],\n",
       "       [1, 0, 0, 0, 0, 0, 1, 0, 1, 0],\n",
       "       [0, 0, 0, 1, 0, 0, 1, 0, 1, 0]], dtype=uint8)"
      ]
     },
     "execution_count": 17,
     "metadata": {},
     "output_type": "execute_result"
    }
   ],
   "source": [
    "x_data=x_df.values\n",
    "x_data"
   ]
  },
  {
   "cell_type": "code",
   "execution_count": 19,
   "id": "637ddc7e",
   "metadata": {},
   "outputs": [
    {
     "data": {
      "text/plain": [
       "(0.3, 0.7)"
      ]
     },
     "execution_count": 19,
     "metadata": {},
     "output_type": "execute_result"
    }
   ],
   "source": [
    "#Y 값이 True인 경우와 False인 경우\n",
    "P_Y_True=sum(Y_data==True)/len(Y_data)\n",
    "P_Y_False=1-P_Y_True\n",
    "\n",
    "P_Y_True,P_Y_False"
   ]
  },
  {
   "cell_type": "code",
   "execution_count": 20,
   "id": "baf8e0e1",
   "metadata": {},
   "outputs": [
    {
     "data": {
      "text/plain": [
       "((array([ 0,  3,  5,  9, 11, 12], dtype=int64),),\n",
       " (array([ 1,  2,  4,  6,  7,  8, 10, 13, 14, 15, 16, 17, 18, 19],\n",
       "        dtype=int64),))"
      ]
     },
     "execution_count": 20,
     "metadata": {},
     "output_type": "execute_result"
    }
   ],
   "source": [
    "#𝑃(𝑌𝑇𝑟𝑢𝑒)와 𝑃(𝑌𝐹𝑎𝑙𝑠𝑒)의 인덱스 값 정리\n",
    "np.where(Y_data)\n",
    "ix_Y_True=np.where(Y_data)\n",
    "ix_Y_False=np.where(Y_data==False)\n",
    "\n",
    "ix_Y_True,ix_Y_False"
   ]
  },
  {
   "attachments": {
    "image.png": {
     "image/png": "[encoded data removed]"
    }
   },
   "cell_type": "markdown",
   "id": "a43ef4a9",
   "metadata": {},
   "source": [
    "![image.png](attachment:image.png)"
   ]
  },
  {
   "cell_type": "code",
   "execution_count": 21,
   "id": "3e0654eb",
   "metadata": {},
   "outputs": [
    {
     "data": {
      "text/plain": [
       "(array([0.16666667, 0.5       , 0.16666667, 0.16666667, 0.        ,\n",
       "        0.16666667, 0.83333333, 0.        , 0.66666667, 0.33333333]),\n",
       " array([0.42857143, 0.28571429, 0.        , 0.28571429, 0.14285714,\n",
       "        0.        , 0.85714286, 0.07142857, 0.78571429, 0.14285714]))"
      ]
     },
     "execution_count": 21,
     "metadata": {},
     "output_type": "execute_result"
    }
   ],
   "source": [
    "p_x_y_true = (x_data[ix_Y_True].sum(axis=0)) / sum(Y_data==True)\n",
    "p_x_y_false = (x_data[ix_Y_False].sum(axis=0)) / sum(Y_data==False)\n",
    "p_x_y_true, p_x_y_false"
   ]
  },
  {
   "cell_type": "code",
   "execution_count": 22,
   "id": "ba46c180",
   "metadata": {},
   "outputs": [
    {
     "data": {
      "text/plain": [
       "(1.6333333333333333, 1.7714285714285714)"
      ]
     },
     "execution_count": 22,
     "metadata": {},
     "output_type": "execute_result"
    }
   ],
   "source": [
    "x_test = [0,1,0,0,0,1,0, 0,1,0]\n",
    "p_y_true_test = P_Y_True + p_x_y_true.dot(x_test)\n",
    "p_y_false_test = P_Y_False + p_x_y_false.dot(x_test)\n",
    "p_y_true_test , p_y_false_test"
   ]
  },
  {
   "cell_type": "code",
   "execution_count": 23,
   "id": "b9e9350c",
   "metadata": {},
   "outputs": [
    {
     "data": {
      "text/plain": [
       "True"
      ]
     },
     "execution_count": 23,
     "metadata": {},
     "output_type": "execute_result"
    }
   ],
   "source": [
    "p_y_true_test < p_y_false_test"
   ]
  }
 ],
 "metadata": {
  "kernelspec": {
   "display_name": "Python 3 (ipykernel)",
   "language": "python",
   "name": "python3"
  },
  "language_info": {
   "codemirror_mode": {
    "name": "ipython",
    "version": 3
   },
   "file_extension": ".py",
   "mimetype": "text/x-python",
   "name": "python",
   "nbconvert_exporter": "python",
   "pygments_lexer": "ipython3",
   "version": "3.9.7"
  }
 },
 "nbformat": 4,
 "nbformat_minor": 5
}
